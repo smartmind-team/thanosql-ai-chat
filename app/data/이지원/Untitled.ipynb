{
 "cells": [
  {
   "cell_type": "code",
   "execution_count": 1,
   "id": "9c8ce76b-55c6-4363-9057-f3932aa1a23f",
   "metadata": {
    "execution": {
     "iopub.execute_input": "2024-11-26T04:54:04.867750Z",
     "iopub.status.busy": "2024-11-26T04:54:04.867297Z",
     "iopub.status.idle": "2024-11-26T04:54:05.254035Z",
     "shell.execute_reply": "2024-11-26T04:54:05.253541Z",
     "shell.execute_reply.started": "2024-11-26T04:54:04.867729Z"
    }
   },
   "outputs": [],
   "source": [
    "import pandas as pd"
   ]
  },
  {
   "cell_type": "code",
   "execution_count": 3,
   "id": "dded383b-556d-4ad8-9638-e89c62f88d80",
   "metadata": {
    "execution": {
     "iopub.execute_input": "2024-11-26T06:37:03.656290Z",
     "iopub.status.busy": "2024-11-26T06:37:03.655759Z",
     "iopub.status.idle": "2024-11-26T06:37:03.666107Z",
     "shell.execute_reply": "2024-11-26T06:37:03.665650Z",
     "shell.execute_reply.started": "2024-11-26T06:37:03.656268Z"
    }
   },
   "outputs": [
    {
     "data": {
      "text/html": [
       "<div>\n",
       "<style scoped>\n",
       "    .dataframe tbody tr th:only-of-type {\n",
       "        vertical-align: middle;\n",
       "    }\n",
       "\n",
       "    .dataframe tbody tr th {\n",
       "        vertical-align: top;\n",
       "    }\n",
       "\n",
       "    .dataframe thead th {\n",
       "        text-align: right;\n",
       "    }\n",
       "</style>\n",
       "<table border=\"1\" class=\"dataframe\">\n",
       "  <thead>\n",
       "    <tr style=\"text-align: right;\">\n",
       "      <th></th>\n",
       "      <th>문의유형</th>\n",
       "      <th>파일명</th>\n",
       "      <th>Page</th>\n",
       "      <th>설명</th>\n",
       "    </tr>\n",
       "  </thead>\n",
       "  <tbody>\n",
       "    <tr>\n",
       "      <th>0</th>\n",
       "      <td>기타문의</td>\n",
       "      <td>1_1.pptx</td>\n",
       "      <td>1</td>\n",
       "      <td>고객번호별 요금고지서, 요금내역서, 납부확인서를 팩스, 이메일, 출력(PDF)</td>\n",
       "    </tr>\n",
       "    <tr>\n",
       "      <th>1</th>\n",
       "      <td>기타문의</td>\n",
       "      <td>1_2.pptx</td>\n",
       "      <td>2</td>\n",
       "      <td>고객번호별 신청서(사용계약서, 재공급, 경감신청서, 동절기 공급중단 유예, 자동이체...</td>\n",
       "    </tr>\n",
       "    <tr>\n",
       "      <th>2</th>\n",
       "      <td>기타문의</td>\n",
       "      <td>1_3.pptx</td>\n",
       "      <td>3</td>\n",
       "      <td>고객번호별 각종 알림서비스 유형별(알림톡, 문자, SMS등) 발송 이력 및 상세내역 조회</td>\n",
       "    </tr>\n",
       "    <tr>\n",
       "      <th>3</th>\n",
       "      <td>기타문의</td>\n",
       "      <td>1_4.pptx</td>\n",
       "      <td>4</td>\n",
       "      <td>고객번호별 발송제한을 등록한 이력 조회 및 발송제한 해지</td>\n",
       "    </tr>\n",
       "    <tr>\n",
       "      <th>4</th>\n",
       "      <td>기타문의</td>\n",
       "      <td>1_5.pptx</td>\n",
       "      <td>5</td>\n",
       "      <td>고객번호별 세금계산서 내역 조회 기능</td>\n",
       "    </tr>\n",
       "  </tbody>\n",
       "</table>\n",
       "</div>"
      ],
      "text/plain": [
       "   문의유형       파일명  Page                                                 설명\n",
       "0  기타문의  1_1.pptx     1        고객번호별 요금고지서, 요금내역서, 납부확인서를 팩스, 이메일, 출력(PDF)\n",
       "1  기타문의  1_2.pptx     2  고객번호별 신청서(사용계약서, 재공급, 경감신청서, 동절기 공급중단 유예, 자동이체...\n",
       "2  기타문의  1_3.pptx     3  고객번호별 각종 알림서비스 유형별(알림톡, 문자, SMS등) 발송 이력 및 상세내역 조회\n",
       "3  기타문의  1_4.pptx     4                    고객번호별 발송제한을 등록한 이력 조회 및 발송제한 해지\n",
       "4  기타문의  1_5.pptx     5                               고객번호별 세금계산서 내역 조회 기능"
      ]
     },
     "execution_count": 3,
     "metadata": {},
     "output_type": "execute_result"
    }
   ],
   "source": [
    "df = pd.read_csv(\"easyone_description.csv\")\n",
    "df.head()"
   ]
  },
  {
   "cell_type": "code",
   "execution_count": null,
   "id": "a68d75b3-ce57-49c5-aced-1d1cda9e298c",
   "metadata": {},
   "outputs": [],
   "source": []
  },
  {
   "cell_type": "code",
   "execution_count": null,
   "id": "607dada5-172c-46f4-99dd-9d2870291978",
   "metadata": {},
   "outputs": [],
   "source": []
  }
 ],
 "metadata": {
  "kernelspec": {
   "display_name": "Python 3 (ipykernel)",
   "language": "python",
   "name": "python3"
  },
  "language_info": {
   "codemirror_mode": {
    "name": "ipython",
    "version": 3
   },
   "file_extension": ".py",
   "mimetype": "text/x-python",
   "name": "python",
   "nbconvert_exporter": "python",
   "pygments_lexer": "ipython3",
   "version": "3.11.3"
  }
 },
 "nbformat": 4,
 "nbformat_minor": 5
}
